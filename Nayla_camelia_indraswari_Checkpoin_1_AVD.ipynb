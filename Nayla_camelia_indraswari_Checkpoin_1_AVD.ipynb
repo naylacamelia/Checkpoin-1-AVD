{
  "nbformat": 4,
  "nbformat_minor": 0,
  "metadata": {
    "colab": {
      "provenance": [],
      "authorship_tag": "ABX9TyO1H59Y80NpcHa2vfUOeHWJ",
      "include_colab_link": true
    },
    "kernelspec": {
      "name": "python3",
      "display_name": "Python 3"
    },
    "language_info": {
      "name": "python"
    }
  },
  "cells": [
    {
      "cell_type": "markdown",
      "metadata": {
        "id": "view-in-github",
        "colab_type": "text"
      },
      "source": [
        "<a href=\"https://colab.research.google.com/github/naylacamelia/Checkpoin-1-AVD/blob/main/Nayla_camelia_indraswari_Checkpoin_1_AVD.ipynb\" target=\"_parent\"><img src=\"https://colab.research.google.com/assets/colab-badge.svg\" alt=\"Open In Colab\"/></a>"
      ]
    },
    {
      "cell_type": "markdown",
      "source": [
        "# **BUSINESS UNDERSTANDING**\n",
        "\n"
      ],
      "metadata": {
        "id": "rvq1y-FAI-wm"
      }
    },
    {
      "cell_type": "markdown",
      "source": [],
      "metadata": {
        "id": "kh_UGBedbSeg"
      }
    },
    {
      "cell_type": "markdown",
      "source": [
        "#**1.\tBusiness Objective**\n"
      ],
      "metadata": {
        "id": "Lg1I8iegZNbQ"
      }
    },
    {
      "cell_type": "markdown",
      "source": [
        "Tujuan Bisnis: Tujuan utama dari proyek ini adalah untuk menganalisis faktor-faktor yang memengaruhi terjadinya kecelakaan lalu lintas. Analisis ini bertujuan untuk memahami pola serta risiko yang terkait dengan kecelakaan lalu lintas. Dengan demikian, proyek ini bertujuan untuk memberikan wawasan berbasis data yang dapat digunakan oleh pemerintah dan pihak terkait dalam meningkatkan keselamatan pengguna jalan serta mendukung pengambilan keputusan strategis."
      ],
      "metadata": {
        "id": "qRrYGv-CaoOT"
      }
    },
    {
      "cell_type": "markdown",
      "source": [
        "# **2.\tAssess Situation**\n",
        "\n",
        "\n"
      ],
      "metadata": {
        "id": "RYPlyMpLYYHF"
      }
    },
    {
      "cell_type": "markdown",
      "source": [
        "Situasi Bisnis: Tingginya angka kecelakaan lalu lintas, baik yang bersifat minor maupun fatal, menunjukkan bahwa keselamatan di jalan masih menjadi permasalahan serius. Faktor penyebab kecelakaan melibatkan berbagai aspek, seperti kondisi cuaca, kepadatan lalu lintas, kualitas infrastruktur, dan perilaku pengemudi. Oleh karena itu, analisis faktor-faktor ini menjadi krusial bagi pemerintah dan pemangku kepentingan lainnya untuk merancang kebijakan yang lebih efektif dalam meningkatkan keamanan berkendara dan mengoptimalkan infrastruktur jalan."
      ],
      "metadata": {
        "id": "aWzvJgULavCF"
      }
    },
    {
      "cell_type": "markdown",
      "source": [
        "#**3.\tData Mining Goals**\n"
      ],
      "metadata": {
        "id": "J6_8opTmYaXK"
      }
    },
    {
      "cell_type": "markdown",
      "source": [
        "Tujuan Data Mining: Tujuan dari data mining pada dataset ini adalah untuk memahami pola kecelakaan berdasarkan faktor-faktor seperti cuaca, batas kecepatan, kondisi jalan, dan kepadatan lalu lintas. Selain itu, hasil analisis ini dapat memberikan wawasan bagi pemerintah dan otoritas transportasi untuk menyusun kebijakan yang lebih efektif dalam meningkatkan keselamatan pengguna jalan."
      ],
      "metadata": {
        "id": "HMhBPL2daxjF"
      }
    },
    {
      "cell_type": "markdown",
      "source": [
        "\n",
        "#**4.\tProject Plan**\n",
        "\n"
      ],
      "metadata": {
        "id": "GW_rNP9XYcWT"
      }
    },
    {
      "cell_type": "markdown",
      "source": [
        "Project Plan: Proyek ini dilakukan melalui serangkaian tahapan penting dalam analisis data. Tahap pertama adalah pengumpulan data, diikuti dengan pembersihan data untuk memastikan kualitas data yang baik dengan menghapus nilai yang tidak valid, menangani data yang hilang, serta mengelola outliers. Selanjutnya, dilakukan analisis data melalui eksplorasi menggunakan tools seperti Excel atau Python guna mengidentifikasi pola serta hubungan antarvariabel dalam dataset. Berdasarkan hasil analisis, dibuat visualisasi data serta rekomendasi tindakan berbasis data yang dapat digunakan oleh pemerintah atau stakeholders dalam upaya peningkatan keselamatan lalu lintas."
      ],
      "metadata": {
        "id": "UAL0aV9La1On"
      }
    }
  ]
}